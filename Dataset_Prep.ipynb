{
  "cells": [
    {
      "cell_type": "markdown",
      "source": [
        "\n",
        "\n",
        "1.   Dataset link : https://drive.google.com/drive/folders/1xxm6ZjfsDSmv6C9JvbgiGrmHktrUjV5x\n",
        "2.   Have to move the dog images to a specific folder.\n",
        "\n",
        "\n"
      ],
      "metadata": {
        "id": "487WkUvpTWBL"
      }
    },
    {
      "cell_type": "code",
      "source": [
        "import json\n",
        "\n",
        "def extract_dog_nose_keypoints(json_file_path):\n",
        "    with open(json_file_path, 'r') as file:\n",
        "        data = json.load(file)\n",
        "\n",
        "    dog_images = {}\n",
        "    dog_nose_keypoints = {}\n",
        "\n",
        "    # Assuming dog is category_id 1 based on the example provided\n",
        "    DOG_CATEGORY_ID = 1\n",
        "    # Assuming nose is the first keypoint (index 0) in the keypoints list\n",
        "    NOSE_KEYPOINT_INDEX = 0\n",
        "\n",
        "    for annotation in data['annotations']:\n",
        "        if annotation['category_id'] == DOG_CATEGORY_ID:\n",
        "            image_id = annotation['image_id']\n",
        "            nose_keypoint = annotation['keypoints'][NOSE_KEYPOINT_INDEX*3:NOSE_KEYPOINT_INDEX*3+3]\n",
        "\n",
        "            if image_id not in dog_images:\n",
        "                dog_images[image_id] = data['images'][str(image_id)]\n",
        "\n",
        "            if nose_keypoint[2] != 0:  # Check if the nose keypoint is visible\n",
        "                dog_nose_keypoints[image_id] = nose_keypoint[:2]  # Only store x and y coordinates\n",
        "\n",
        "    return dog_images, dog_nose_keypoints\n",
        "\n",
        "# Usage\n",
        "json_file_path = 'key_points.json'\n",
        "dog_images, dog_nose_keypoints = extract_dog_nose_keypoints(json_file_path)\n",
        "\n",
        "print(f\"Number of dog images: {len(dog_images)}\")\n",
        "print(f\"Number of dog images with visible nose keypoints: {len(dog_nose_keypoints)}\")\n",
        "\n",
        "# Print some examples\n",
        "for image_id, image_name in list(dog_images.items())[:5]:\n",
        "    print(f\"Image ID: {image_id}, Image Name: {image_name}\")\n",
        "    if image_id in dog_nose_keypoints:\n",
        "        print(f\"  Nose Keypoint: {dog_nose_keypoints[image_id]}\")\n",
        "    else:\n",
        "        print(\"  No visible nose keypoint\")\n",
        "    print()"
      ],
      "metadata": {
        "id": "YQ5IACbPB3-T"
      },
      "execution_count": null,
      "outputs": []
    }
  ],
  "metadata": {
    "colab": {
      "provenance": [],
      "gpuType": "T4"
    },
    "kernelspec": {
      "display_name": "Python 3",
      "name": "python3"
    },
    "language_info": {
      "name": "python"
    },
    "accelerator": "GPU"
  },
  "nbformat": 4,
  "nbformat_minor": 0
}